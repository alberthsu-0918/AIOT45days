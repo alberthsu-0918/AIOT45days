{
 "cells": [
  {
   "cell_type": "code",
   "execution_count": 1,
   "metadata": {},
   "outputs": [],
   "source": [
    "from pymongo import MongoClient"
   ]
  },
  {
   "cell_type": "code",
   "execution_count": 5,
   "metadata": {},
   "outputs": [],
   "source": [
    "client = MongoClient(host = '127.0.0.1', port = 27017)"
   ]
  },
  {
   "cell_type": "code",
   "execution_count": 9,
   "metadata": {},
   "outputs": [],
   "source": [
    "#連結資料庫\n",
    "db = client['test']\n",
    "#指定集合\n",
    "collection = db['member']\n",
    "#宣告要新增的列表\n",
    "mydata = {'name': 'Kevin', 'phone': '0912345678', 'email': 'test@gmail.com'}"
   ]
  },
  {
   "cell_type": "code",
   "execution_count": 10,
   "metadata": {},
   "outputs": [],
   "source": [
    "result = collection.insert_one(mydata)"
   ]
  },
  {
   "cell_type": "code",
   "execution_count": 11,
   "metadata": {},
   "outputs": [
    {
     "name": "stdout",
     "output_type": "stream",
     "text": [
      "5ff2c2cfce954442e1242cce\n"
     ]
    }
   ],
   "source": [
    "print(result.inserted_id)"
   ]
  },
  {
   "cell_type": "code",
   "execution_count": 12,
   "metadata": {},
   "outputs": [],
   "source": [
    "#用list宣告要新增的列表\n",
    "data_list = [\n",
    "    {'name': 'Kitty', 'phone': '0987654321', 'email': 'testKitty@gmail.com'},\n",
    "    {'name': 'Michael', 'phone': '0911222333', 'email': 'testMichael@gmail.com'},\n",
    "    {'name': 'Mike', 'phone': '0988777666', 'email': 'testMike@gmail.com'}\n",
    "            ]"
   ]
  },
  {
   "cell_type": "code",
   "execution_count": 13,
   "metadata": {},
   "outputs": [],
   "source": [
    "result = collection.insert_many(data_list)"
   ]
  },
  {
   "cell_type": "code",
   "execution_count": 15,
   "metadata": {},
   "outputs": [
    {
     "name": "stdout",
     "output_type": "stream",
     "text": [
      "[ObjectId('5ff2c706ce954442e1242ccf'), ObjectId('5ff2c706ce954442e1242cd0'), ObjectId('5ff2c706ce954442e1242cd1')]\n"
     ]
    }
   ],
   "source": [
    "print(result.inserted_ids)"
   ]
  },
  {
   "cell_type": "code",
   "execution_count": 16,
   "metadata": {},
   "outputs": [
    {
     "data": {
      "text/plain": [
       "4"
      ]
     },
     "execution_count": 16,
     "metadata": {},
     "output_type": "execute_result"
    }
   ],
   "source": [
    "collection.count_documents({})"
   ]
  },
  {
   "cell_type": "code",
   "execution_count": 17,
   "metadata": {},
   "outputs": [
    {
     "data": {
      "text/plain": [
       "<pymongo.results.DeleteResult at 0x1de418be588>"
      ]
     },
     "execution_count": 17,
     "metadata": {},
     "output_type": "execute_result"
    }
   ],
   "source": [
    "collection.delete_one({'name': 'Kitty'})"
   ]
  },
  {
   "cell_type": "code",
   "execution_count": 18,
   "metadata": {},
   "outputs": [
    {
     "data": {
      "text/plain": [
       "3"
      ]
     },
     "execution_count": 18,
     "metadata": {},
     "output_type": "execute_result"
    }
   ],
   "source": [
    "collection.count_documents({})"
   ]
  },
  {
   "cell_type": "code",
   "execution_count": 21,
   "metadata": {},
   "outputs": [],
   "source": [
    "result = collection.delete_many({'name': 'Kitty'})"
   ]
  },
  {
   "cell_type": "code",
   "execution_count": 22,
   "metadata": {},
   "outputs": [
    {
     "data": {
      "text/plain": [
       "0"
      ]
     },
     "execution_count": 22,
     "metadata": {},
     "output_type": "execute_result"
    }
   ],
   "source": [
    "result.deleted_count"
   ]
  },
  {
   "cell_type": "code",
   "execution_count": 23,
   "metadata": {},
   "outputs": [
    {
     "data": {
      "text/plain": [
       "<pymongo.results.UpdateResult at 0x1de43a03b48>"
      ]
     },
     "execution_count": 23,
     "metadata": {},
     "output_type": "execute_result"
    }
   ],
   "source": [
    "#Update data\n",
    "#過濾條件\n",
    "filter_ = {'name': 'Kevin'}\n",
    "#修改資料\n",
    "update_ = {\"$set\": {'name': 'Green'}}\n",
    "#呼叫update_one\n",
    "collection.update_one(filter_, update_)\n",
    "#呼叫update_many可以一次修改多筆"
   ]
  },
  {
   "cell_type": "code",
   "execution_count": 24,
   "metadata": {},
   "outputs": [],
   "source": [
    "#find data\n",
    "result = collection.find_one({})"
   ]
  },
  {
   "cell_type": "code",
   "execution_count": 25,
   "metadata": {},
   "outputs": [
    {
     "name": "stdout",
     "output_type": "stream",
     "text": [
      "{'_id': ObjectId('5ff2c2cfce954442e1242cce'), 'name': 'Green', 'phone': '0912345678', 'email': 'test@gmail.com'}\n"
     ]
    }
   ],
   "source": [
    "print(result)"
   ]
  },
  {
   "cell_type": "code",
   "execution_count": 27,
   "metadata": {},
   "outputs": [
    {
     "name": "stdout",
     "output_type": "stream",
     "text": [
      "{'_id': ObjectId('5ff2c2cfce954442e1242cce'), 'name': 'Green', 'phone': '0912345678', 'email': 'test@gmail.com'}\n",
      "{'_id': ObjectId('5ff2c706ce954442e1242cd0'), 'name': 'Michael', 'phone': '0911222333', 'email': 'testMichael@gmail.com'}\n",
      "{'_id': ObjectId('5ff2c706ce954442e1242cd1'), 'name': 'Mike', 'phone': '0988777666', 'email': 'testMike@gmail.com'}\n"
     ]
    }
   ],
   "source": [
    "result = collection.find({})\n",
    "for x in result:\n",
    "    print(x)"
   ]
  },
  {
   "cell_type": "code",
   "execution_count": 28,
   "metadata": {},
   "outputs": [
    {
     "name": "stdout",
     "output_type": "stream",
     "text": [
      "{'_id': ObjectId('5ff2c706ce954442e1242cd1'), 'name': 'Mike', 'phone': '0988777666', 'email': 'testMike@gmail.com'}\n",
      "{'_id': ObjectId('5ff2c2cfce954442e1242cce'), 'name': 'Green', 'phone': '0912345678', 'email': 'test@gmail.com'}\n",
      "{'_id': ObjectId('5ff2c706ce954442e1242cd0'), 'name': 'Michael', 'phone': '0911222333', 'email': 'testMichael@gmail.com'}\n"
     ]
    }
   ],
   "source": [
    "#排序\n",
    "result = collection.find({}).sort('phone', -1) #-1:由小至大  1:由大致小\n",
    "for x in result:\n",
    "    print(x)"
   ]
  },
  {
   "cell_type": "code",
   "execution_count": 29,
   "metadata": {},
   "outputs": [
    {
     "name": "stdout",
     "output_type": "stream",
     "text": [
      "{'_id': ObjectId('5ff2c2cfce954442e1242cce'), 'name': 'Green', 'phone': '0912345678', 'email': 'test@gmail.com'}\n",
      "{'_id': ObjectId('5ff2c706ce954442e1242cd0'), 'name': 'Michael', 'phone': '0911222333', 'email': 'testMichael@gmail.com'}\n"
     ]
    }
   ],
   "source": [
    "#限制要搜尋資料筆數\n",
    "result = collection.find().limit(2)\n",
    "for x in result:\n",
    "    print(x)"
   ]
  },
  {
   "cell_type": "code",
   "execution_count": null,
   "metadata": {},
   "outputs": [],
   "source": []
  }
 ],
 "metadata": {
  "kernelspec": {
   "display_name": "Python 3",
   "language": "python",
   "name": "python3"
  },
  "language_info": {
   "codemirror_mode": {
    "name": "ipython",
    "version": 3
   },
   "file_extension": ".py",
   "mimetype": "text/x-python",
   "name": "python",
   "nbconvert_exporter": "python",
   "pygments_lexer": "ipython3",
   "version": "3.7.4"
  }
 },
 "nbformat": 4,
 "nbformat_minor": 2
}
