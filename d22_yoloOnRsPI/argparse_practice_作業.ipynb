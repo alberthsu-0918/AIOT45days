{
  "nbformat": 4,
  "nbformat_minor": 0,
  "metadata": {
    "colab": {
      "name": "argparse_practice_作業.ipynb",
      "provenance": []
    },
    "kernelspec": {
      "name": "python3",
      "display_name": "Python 3"
    }
  },
  "cells": [
    {
      "cell_type": "markdown",
      "metadata": {
        "id": "YXubSej__exT"
      },
      "source": [
        "# 作業 : argparse_practice"
      ]
    },
    {
      "cell_type": "markdown",
      "metadata": {
        "id": "5pIkPDAH-n5I"
      },
      "source": [
        "## [作業目標]\r\n",
        "如何使用python argparse工具\r\n",
        "\r\n",
        "## [作業重點]\r\n",
        "透過argparse新增參數\r\n",
        "透過python執行程序時傳入正確參數"
      ]
    },
    {
      "cell_type": "markdown",
      "metadata": {
        "id": "GoKgXP58AioN"
      },
      "source": [
        "### 作業1 : 請問我們要使用ArgumentParser的哪一個方法來新增一個參數?\r\n",
        "\r\n"
      ]
    },
    {
      "cell_type": "markdown",
      "metadata": {
        "id": "EwTYifhRAlmP"
      },
      "source": [
        "### 作業2 : 在使用YOLO的推論程序darknet detector test時，我們需要指定那些參數?\r\n",
        "請創建一個argparse_practice.py檔，透過ArgumentParser指定要傳入\"-name\"、\"-ID\"兩個參數，並在使用python執行後得到以下結果:\r\n",
        "![](https://i.imgur.com/NBcgRMo.png)\r\n"
      ]
    }
  ]
}