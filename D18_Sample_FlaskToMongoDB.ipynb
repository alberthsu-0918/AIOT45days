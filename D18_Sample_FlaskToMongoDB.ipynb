{
 "cells": [
  {
   "cell_type": "code",
   "execution_count": 1,
   "metadata": {},
   "outputs": [],
   "source": [
    "from flask import Flask, request, jsonify\n",
    "from flask_pymongo import PyMongo\n",
    "from bson.objectid import ObjectId"
   ]
  },
  {
   "cell_type": "code",
   "execution_count": 2,
   "metadata": {},
   "outputs": [],
   "source": [
    "app = Flask(__name__)\n",
    "app.config[\"MONGO_URI\"] = \"mongodb://localhost:27017/test\" #資料庫的address\n",
    "mongo = PyMongo(app)"
   ]
  },
  {
   "cell_type": "code",
   "execution_count": 3,
   "metadata": {},
   "outputs": [],
   "source": [
    "# 使用 Flask 操作 MongoDB - 取得\n",
    "@app.route('/members')\n",
    "@app.route('/members/<id>', methods = ['GET'])\n",
    "def get_member(id=None):\n",
    "#def get_member(id):\n",
    "    # 若沒有傳入 id，及取得所有會員資料\n",
    "    if id is None:\n",
    "        members = mongo.db.member.find({})\n",
    "        result = [] # 宣告一個陣列，回傳結果時需要用到\n",
    "        \n",
    "        for member in members:\n",
    "            member['_id'] = str(member['_id']) # mongo 回傳的 id 為 ObjectId 型別，把 id 轉成一般的字串\n",
    "            result.append(member)\n",
    "        return jsonify(result) # 把我們的結果轉換為 json 並回傳\n",
    "    else:\n",
    "        result = mongo.db.member.find_one({'_id': ObjectId(id)})\n",
    "        if result is not None:\n",
    "            result['_id'] = str(result['_id']) # mongo 回傳的 id 為 ObjectId 型別，把 id 轉成一般的字串\n",
    "        \n",
    "        return jsonify(result) # 把我們的結果轉換為 json 並回傳\n",
    "    "
   ]
  },
  {
   "cell_type": "code",
   "execution_count": null,
   "metadata": {},
   "outputs": [
    {
     "name": "stdout",
     "output_type": "stream",
     "text": [
      " * Serving Flask app \"__main__\" (lazy loading)\n",
      " * Environment: production\n",
      "   WARNING: This is a development server. Do not use it in a production deployment.\n",
      "   Use a production WSGI server instead.\n",
      " * Debug mode: off\n"
     ]
    },
    {
     "name": "stderr",
     "output_type": "stream",
     "text": [
      " * Running on http://127.0.0.1:5000/ (Press CTRL+C to quit)\n",
      "127.0.0.1 - - [22/Jan/2021 14:01:23] \"\u001b[37mGET /members/600a6741a80503244a988b90 HTTP/1.1\u001b[0m\" 200 -\n"
     ]
    }
   ],
   "source": [
    "# 使用 Flask 操作 MongoDB - 新增\n",
    "@app.route('/members', methods = ['POST'])\n",
    "def add_member():\n",
    "    # 把 form 裡面的資料拿出來\n",
    "    name = request.form.get('name')\n",
    "    age = request.form.get('age')\n",
    "    phone = request.form.get('phone')\n",
    "    email = request.form.get('email')\n",
    "    \n",
    "    # 執行 insert_one 新增一筆資料\n",
    "    result = mongo.db.member.insert_one({'name': name, 'age': age, 'phone': phone, 'email': email})\n",
    "    \n",
    "    # 回傳新增資料的 id\n",
    "    return str(result.inserted_id)\n"
   ]
  },
  {
   "cell_type": "code",
   "execution_count": 3,
   "metadata": {},
   "outputs": [],
   "source": [
    "# 使用 Flask 操作 MongoDB - 刪除\n",
    "@app.route('/members/<id>', methods = ['DELETE'])\n",
    "def remove_member(id):\n",
    "    result = 0\n",
    "    \n",
    "    # 先確定是否有該會員\n",
    "    member = mongo.db.member.find_one({'_id': ObjectId(id)})\n",
    "    \n",
    "    # 若會員存在，執行 delete_one 刪除該會員\n",
    "    if member is not None:\n",
    "        del_result = mongo.db.member.delete_one(member)\n",
    "        result = del_result.deleted_count\n",
    "        \n",
    "    # 回傳刪除的資料筆數\n",
    "    return \"Delete %s data\" % str(result)"
   ]
  },
  {
   "cell_type": "code",
   "execution_count": 4,
   "metadata": {},
   "outputs": [],
   "source": [
    "#使用 Flask 操作 MongoDB - 修改\n",
    "@app.route('/members/<id>', methods = ['PUT'])\n",
    "def remove_member(id):\n",
    "    result = 0\n",
    "    \n",
    "    # 把 form 裡面的資料拿出來\n",
    "    name = request.form.get('name')\n",
    "    age = request.form.get('age')\n",
    "    phone = request.form.get('phone')\n",
    "    email = request.form.get('email')\n",
    "    \n",
    "    # 把新的資料用 dict 型別包裝\n",
    "    new_value = { \"$set\": { \"name\": name, \"age\": age, \"phone\": phone, \"email\": email } }\n",
    "    # 執行 update_one 進行修改\n",
    "    upd_result = mongo.db.member.update_one({\"_id\": ObjectId(id)}, new_value)\n",
    "    \n",
    "    if upd_result is not None:\n",
    "        result = upd_result.modified_count\n",
    "    \n",
    "    # 回傳更新的資料筆數\n",
    "    return \"Update %s data\" % str(result)"
   ]
  },
  {
   "cell_type": "code",
   "execution_count": null,
   "metadata": {},
   "outputs": [
    {
     "name": "stdout",
     "output_type": "stream",
     "text": [
      " * Serving Flask app \"__main__\" (lazy loading)\n",
      " * Environment: production\n",
      "   WARNING: This is a development server. Do not use it in a production deployment.\n",
      "   Use a production WSGI server instead.\n",
      " * Debug mode: off\n"
     ]
    },
    {
     "name": "stderr",
     "output_type": "stream",
     "text": [
      " * Running on http://127.0.0.1:5000/ (Press CTRL+C to quit)\n",
      "127.0.0.1 - - [22/Jan/2021 16:44:08] \"\u001b[37mPUT /members/600a4bd0acd9249c6337b2aa HTTP/1.1\u001b[0m\" 200 -\n"
     ]
    }
   ],
   "source": [
    "if __name__ == \"__main__\":\n",
    "    app.run()"
   ]
  },
  {
   "cell_type": "code",
   "execution_count": null,
   "metadata": {},
   "outputs": [],
   "source": []
  }
 ],
 "metadata": {
  "kernelspec": {
   "display_name": "Python 3",
   "language": "python",
   "name": "python3"
  },
  "language_info": {
   "codemirror_mode": {
    "name": "ipython",
    "version": 3
   },
   "file_extension": ".py",
   "mimetype": "text/x-python",
   "name": "python",
   "nbconvert_exporter": "python",
   "pygments_lexer": "ipython3",
   "version": "3.7.4"
  }
 },
 "nbformat": 4,
 "nbformat_minor": 2
}
