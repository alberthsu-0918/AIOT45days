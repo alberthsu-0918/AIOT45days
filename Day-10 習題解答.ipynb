{
 "cells": [
  {
   "cell_type": "markdown",
   "metadata": {},
   "source": [
    "# Day-9 習題解答\n",
    "\n",
    "在 docker 安裝 mongodb\n",
    "\n",
    "$sudo docker pull mongo:latest\n",
    "\n",
    "$sudo docker image\n",
    "\n",
    "使用以下命令來運行 mongo 容器：\n",
    "$docker run -itd --CupoyTest mongo -p 27017:27017 mongo --auth\n",
    "\n",
    "參數說明：\n",
    "(1)-p 27017:27017 ：映射容器服務的 27017 埠到宿主機的 27017 埠。外部可以直接通過主機 ip:27017 訪問到 mongo 的服務。\n",
    "(2)--auth：需要密碼才能訪問容器服務。\n",
    "#確認執行的Docker 程式\n",
    "\n",
    "$docker ps\n"
   ]
  },
  {
   "cell_type": "markdown",
   "metadata": {},
   "source": [
    "db.createUser( {\n",
    "\n",
    "    user: \"root\",\n",
    "    pwd: \"666666\",\n",
    "    roles: [\n",
    "        { role: \"userAdminAnyDatabase\", db: \"admin\" },\n",
    "        { role: \"hostManager\", db: \"admin\" },\n",
    "        { role: \"__system\", db: \"admin\" }\n",
    "    ]\n",
    "\n",
    "});"
   ]
  },
  {
   "cell_type": "code",
   "execution_count": null,
   "metadata": {},
   "outputs": [],
   "source": []
  }
 ],
 "metadata": {
  "kernelspec": {
   "display_name": "Python 3",
   "language": "python",
   "name": "python3"
  },
  "language_info": {
   "codemirror_mode": {
    "name": "ipython",
    "version": 3
   },
   "file_extension": ".py",
   "mimetype": "text/x-python",
   "name": "python",
   "nbconvert_exporter": "python",
   "pygments_lexer": "ipython3",
   "version": "3.8.3"
  }
 },
 "nbformat": 4,
 "nbformat_minor": 4
}
