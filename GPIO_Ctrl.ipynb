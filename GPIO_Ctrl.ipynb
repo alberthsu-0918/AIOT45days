{
 "cells": [
  {
   "cell_type": "code",
   "execution_count": null,
   "metadata": {},
   "outputs": [],
   "source": [
    "#!usr/bin/env python\n",
    "# -*- coding: utf-8 -*-\n",
    "\n",
    "\n",
    "import RPi.GPIO\n",
    "import time\n",
    "from flask import Flask\n",
    "\n",
    "\n",
    "RPi.GPIO.setmode(RPi.GPIO.BCM)\n",
    "RPi.GPIO.setup(2, RPi.GPIO.OUT)\n",
    "\n",
    "app = Flask(__name__)\n",
    "\n",
    "@app.route('/')\n",
    "def hello_world():\n",
    "    return 'Hello World!'\n",
    "\n",
    "@app.route('/start')\n",
    "def start():\n",
    "        RPi.GPIO .setmode(RPi.GPIO.BCM)\n",
    "        RPi.GPIO.setup(2,RPi.GPIO.OUT)\n",
    "        while(True):\n",
    "                RPi.GPIO.output(2,False)\n",
    "                time.sleep(5)\n",
    "                RPi.GPIO.output( 2,True)\n",
    "                time.sleep(5)\n",
    "\n",
    "RPi.GPIO.cleanup()\n",
    "\n",
    "if __name__ == '__main__':\n",
    "     app.run(host='0.0.0.0', port=8080, debug=True, threaded=True) #在瀏覽器輸入樹莓派ip,即可\n"
   ]
  }
 ],
 "metadata": {
  "kernelspec": {
   "display_name": "Python 3",
   "language": "python",
   "name": "python3"
  },
  "language_info": {
   "codemirror_mode": {
    "name": "ipython",
    "version": 3
   },
   "file_extension": ".py",
   "mimetype": "text/x-python",
   "name": "python",
   "nbconvert_exporter": "python",
   "pygments_lexer": "ipython3",
   "version": "3.7.4"
  }
 },
 "nbformat": 4,
 "nbformat_minor": 4
}
