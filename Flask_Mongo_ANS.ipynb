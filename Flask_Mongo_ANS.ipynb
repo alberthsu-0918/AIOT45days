{
 "cells": [
  {
   "cell_type": "markdown",
   "metadata": {},
   "source": [
    "# 作業：使用 Flask 操作 Mongo"
   ]
  },
  {
   "cell_type": "markdown",
   "metadata": {},
   "source": [
    "# [作業目標]\n",
    "* 能夠使用 python 操作 mongodb 的增刪改查。\n",
    "* API 設計上能符合 Restful 風格。"
   ]
  },
  {
   "cell_type": "markdown",
   "metadata": {},
   "source": [
    "# [作業重點]\n",
    "* 能使用正確的 Http Method 去接收 Request。\n",
    "* 實作之前，Mongo Server 要記得開啟。\n",
    "* 若 DB 和 Collection 原本不存在，請先用 Robo3T 手動建立。"
   ]
  },
  {
   "cell_type": "markdown",
   "metadata": {},
   "source": [
    "# [本作業你可能需要使用的 packages]\n",
    "* from pymongo import MongoClient\n",
    "* from flask import Flask, request\n",
    "* from bson.objectid import ObjectId"
   ]
  },
  {
   "cell_type": "markdown",
   "metadata": {},
   "source": [
    "# 作業 1\n",
    "* 使用 Post，傳入參數 name, age, email 參數，並把資料存入 Member Collection。"
   ]
  },
  {
   "cell_type": "code",
   "execution_count": null,
   "metadata": {},
   "outputs": [],
   "source": [
    "from pymongo import MongoClient\n",
    "from flask import Flask, request\n",
    "\n",
    "\n",
    "# 連線 sever\n",
    "client = MongoClient(host='127.0.0.1', port=27017)\n",
    "# 連接資料庫\n",
    "db = client['mydb']\n",
    "# 指定集合\n",
    "collection = db['member']\n",
    "\n",
    "app = Flask(__name__)\n",
    "\n",
    "@app.route(\"/member-management/members\", methods=['POST'])\n",
    "def add_member():\n",
    "    name = request.form.get(\"name\")\n",
    "    age = request.form.get(\"age\")\n",
    "    email = request.form.get(\"email\")\n",
    "    \n",
    "    result = db.member.insert_one({'name': name, 'age': age, 'email': email})\n",
    "    return str(result.inserted_id)\n",
    "\n",
    "if __name__ == \"__main__\":\n",
    "    app.run()"
   ]
  },
  {
   "cell_type": "markdown",
   "metadata": {},
   "source": [
    "# 作業 2\n",
    "* 使用 Get，傳入參數 id 參數，並成功從 Mongo 中取得前面新增進去的資料。"
   ]
  },
  {
   "cell_type": "code",
   "execution_count": null,
   "metadata": {},
   "outputs": [],
   "source": [
    "from pymongo import MongoClient\n",
    "from flask import Flask, request, jsonify\n",
    "from bson.objectid import ObjectId\n",
    "\n",
    "\n",
    "# 連線 sever\n",
    "client = MongoClient(host='127.0.0.1', port=27017)\n",
    "# 連接資料庫\n",
    "db = client['mydb']\n",
    "# 指定集合\n",
    "collection = db['member']\n",
    "\n",
    "app = Flask(__name__)\n",
    "\n",
    "@app.route(\"/member-management/members\")\n",
    "@app.route(\"/member-management/members/<id>\", methods=['GET'])\n",
    "def get_member(id=None):\n",
    "\n",
    "    result = []\n",
    "    \n",
    "    if id is None: # 若沒有傳入特定 id，則回傳所有找到的資料\n",
    "        members = db.member.find({})\n",
    "        for member in members:\n",
    "            member['_id'] = str(member['_id'])\n",
    "            result.append(member)\n",
    "    else:\n",
    "        result = db.member.find_one({'_id': ObjectId(id)})\n",
    "        if result is not None:\n",
    "            result['_id'] = str(result['_id'])\n",
    "            \n",
    "    return jsonify(result)\n",
    "\n",
    "if __name__ == \"__main__\":\n",
    "    app.run()"
   ]
  },
  {
   "cell_type": "markdown",
   "metadata": {},
   "source": [
    "# 作業 3\n",
    "* 使用 PUT，傳入參數 id, name, age, email 參數，並修改 Mongo 中某一筆資料的值。"
   ]
  },
  {
   "cell_type": "code",
   "execution_count": null,
   "metadata": {},
   "outputs": [],
   "source": [
    "from pymongo import MongoClient\n",
    "from flask import Flask, request, jsonify\n",
    "from bson.objectid import ObjectId\n",
    "\n",
    "\n",
    "# 連線 sever\n",
    "client = MongoClient(host='127.0.0.1', port=27017)\n",
    "# 連接資料庫\n",
    "db = client['mydb']\n",
    "# 指定集合\n",
    "collection = db['member']\n",
    "\n",
    "app = Flask(__name__)\n",
    "\n",
    "@app.route(\"/member-management/members/<id>\", methods=['PUT'])\n",
    "def update_member(id):\n",
    "    \n",
    "    result = 0\n",
    "    \n",
    "    name = request.form.get(\"name\")\n",
    "    age = request.form.get(\"age\")\n",
    "    email = request.form.get(\"email\")\n",
    "    \n",
    "    new_member_value = { \"$set\": { \"name\": name, \"age\": age, \"email\":email } }\n",
    "    \n",
    "    upd_result = db.member.update_one({\"_id\": ObjectId(id)}, new_member_value)\n",
    "    \n",
    "    if upd_result is not None:\n",
    "        result = upd_result.modified_count\n",
    "    \n",
    "    return \"Update %s row.\" % str(result)\n",
    "\n",
    "if __name__ == \"__main__\":\n",
    "    app.run()"
   ]
  },
  {
   "cell_type": "markdown",
   "metadata": {},
   "source": [
    "# 作業 4\n",
    "* 使用 DELETE，傳入參數 id，並刪除 Mongo 中某一筆資料。"
   ]
  },
  {
   "cell_type": "code",
   "execution_count": null,
   "metadata": {},
   "outputs": [],
   "source": [
    "from pymongo import MongoClient\n",
    "from flask import Flask, request, jsonify\n",
    "from bson.objectid import ObjectId\n",
    "\n",
    "\n",
    "# 連線 sever\n",
    "client = MongoClient(host='127.0.0.1', port=27017)\n",
    "# 連接資料庫\n",
    "db = client['mydb']\n",
    "# 指定集合\n",
    "collection = db['member']\n",
    "\n",
    "app = Flask(__name__)\n",
    "\n",
    "@app.route(\"/member-management/members/<id>\", methods=['DELETE'])\n",
    "def remove_member(id):\n",
    "    \n",
    "    result = 0\n",
    "    \n",
    "    del_result = db.member.delete_one({\"_id\": ObjectId(id)})\n",
    "    \n",
    "    if del_result is not None:\n",
    "        result = del_result.deleted_count\n",
    "    \n",
    "    return \"Delete %s row.\" % str(result)\n",
    "\n",
    "if __name__ == \"__main__\":\n",
    "    app.run()"
   ]
  }
 ],
 "metadata": {
  "kernelspec": {
   "display_name": "Python 3",
   "language": "python",
   "name": "python3"
  },
  "language_info": {
   "codemirror_mode": {
    "name": "ipython",
    "version": 3
   },
   "file_extension": ".py",
   "mimetype": "text/x-python",
   "name": "python",
   "nbconvert_exporter": "python",
   "pygments_lexer": "ipython3",
   "version": "3.7.7"
  }
 },
 "nbformat": 4,
 "nbformat_minor": 4
}
