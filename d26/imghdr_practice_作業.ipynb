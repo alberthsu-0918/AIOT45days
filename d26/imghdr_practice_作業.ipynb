{
  "nbformat": 4,
  "nbformat_minor": 0,
  "metadata": {
    "colab": {
      "name": "imghdr_practice_作業.ipynb",
      "provenance": []
    },
    "kernelspec": {
      "name": "python3",
      "display_name": "Python 3"
    }
  },
  "cells": [
    {
      "cell_type": "markdown",
      "metadata": {
        "id": "YXubSej__exT"
      },
      "source": [
        "# 作業 : imghdr_practice"
      ]
    },
    {
      "cell_type": "markdown",
      "metadata": {
        "id": "5pIkPDAH-n5I"
      },
      "source": [
        "## [作業目標]\r\n",
        "學習如何使用imghdr函式庫檢查影像的格式\r\n",
        "\r\n",
        "## [作業重點]\r\n",
        "如果想要做一個自動化影像專案，自動檢查輸入的格式是很重要的，練習時對於副檔名需要仔細確認。\r\n"
      ]
    },
    {
      "cell_type": "markdown",
      "metadata": {
        "id": "GoKgXP58AioN"
      },
      "source": [
        "### 作業1 : 請思考使用原生程序和之前使用os.system指令進行操作，哪一種對你而言更方便?\r\n",
        "\r\n"
      ]
    },
    {
      "cell_type": "markdown",
      "metadata": {
        "id": "EwTYifhRAlmP"
      },
      "source": [
        "### 作業2 : 請使用imghdr函式庫檢查下面連結提供的影像是否為png格式\r\n",
        "- 連結 https://i.imgur.com/hM6uFKZ.png\r\n",
        "- 提示: 用下列指令下載作業指定影像到colab上\r\n",
        "`!wget -O ./test.png https://i.imgur.com/hM6uFKZ.png`\r\n"
      ]
    }
  ]
}