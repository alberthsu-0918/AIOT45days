{
 "cells": [
  {
   "cell_type": "markdown",
   "metadata": {
    "id": "YXubSej__exT"
   },
   "source": [
    "# 作業 : cfg_practice"
   ]
  },
  {
   "cell_type": "markdown",
   "metadata": {
    "id": "5pIkPDAH-n5I"
   },
   "source": [
    "## [作業目標]\n",
    "如何設定tiny-yolo cfg檔參數\n",
    "\n",
    "## [作業重點]\n",
    "classes和filters的數值是有相關的"
   ]
  },
  {
   "cell_type": "markdown",
   "metadata": {
    "id": "GoKgXP58AioN"
   },
   "source": [
    "### 作業1 : 作業1 : 請思考使用YOLO和tinyYOLO進行訓練時，他們之間需要調整的差異在哪裡?\n",
    "\n",
    "\n"
   ]
  },
  {
   "cell_type": "code",
   "execution_count": 1,
   "metadata": {},
   "outputs": [],
   "source": [
    "#1. cfg設定不同。tinyYolo使用的是cp -f cfg/yolov3-tiny.cfg cfg/yolov3_training.cfg\n",
    "#2. 下載預先訓練好的weighting (for further training), 用!wget https://pjreddie.com/media/files/yolov3-tiny.weights"
   ]
  },
  {
   "cell_type": "markdown",
   "metadata": {
    "id": "EwTYifhRAlmP"
   },
   "source": [
    "### 作業2 : 請實作當我們要訓練一個7個class的tiny_yolo時，要如何設定cfg檔?\n"
   ]
  },
  {
   "cell_type": "code",
   "execution_count": null,
   "metadata": {},
   "outputs": [],
   "source": [
    "#根據公式，filter = (5(x,y,w,h,confidence scroe) + class)*anchor boxes num(=3), if class = 7\n",
    "!sed -i '135 s@classes=80@classes=7@' cfg/yolov3_training.cfg\n",
    "!sed -i '177 s@classes=80@classes=7@' cfg/yolov3_training.cfg\n",
    "!sed -i '127 s@filters=255@filters=36@' cfg/yolov3_training.cfg\n",
    "!sed -i '171 s@filters=255@filters=36@' cfg/yolov3_training.cfg\n",
    "#其餘obj data obj name亦要修改"
   ]
  }
 ],
 "metadata": {
  "colab": {
   "name": "cfg_practice_作業.ipynb",
   "provenance": []
  },
  "kernelspec": {
   "display_name": "Python 3",
   "language": "python",
   "name": "python3"
  },
  "language_info": {
   "codemirror_mode": {
    "name": "ipython",
    "version": 3
   },
   "file_extension": ".py",
   "mimetype": "text/x-python",
   "name": "python",
   "nbconvert_exporter": "python",
   "pygments_lexer": "ipython3",
   "version": "3.7.4"
  }
 },
 "nbformat": 4,
 "nbformat_minor": 1
}
