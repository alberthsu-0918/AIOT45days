{
 "cells": [
  {
   "cell_type": "code",
   "execution_count": 1,
   "metadata": {},
   "outputs": [],
   "source": [
    "from pymongo import MongoClient  \n",
    "import requests\n",
    "import base64"
   ]
  },
  {
   "cell_type": "code",
   "execution_count": 2,
   "metadata": {},
   "outputs": [],
   "source": [
    "# 連接到local端的MongoDB，MongoDB database使用Robot3T建立\n",
    "client = MongoClient(host = '127.0.0.1', port = 27017)\n",
    "db = client['yolo_pred_db'] # 建立一個data base 命名為yolo_pred_db\n",
    "coll = db['PicCollections'] # 在test_db中 建立一個collections，透過coll變數呼叫他"
   ]
  },
  {
   "cell_type": "code",
   "execution_count": 4,
   "metadata": {},
   "outputs": [
    {
     "name": "stdout",
     "output_type": "stream",
     "text": [
      "detect: orange\tconfidence: 1.00000\n",
      "time is: 2021-03-16 09:46:19\n"
     ]
    }
   ],
   "source": [
    "# 從flask取得推論結果\n",
    "r = requests.get('http://192.168.199.75:8080')\n",
    "if r.status_code == requests.codes.ok:\n",
    "    print(r.text)\n",
    "yolo_result = r.text"
   ]
  },
  {
   "cell_type": "code",
   "execution_count": 5,
   "metadata": {},
   "outputs": [
    {
     "name": "stdout",
     "output_type": "stream",
     "text": [
      "OK\n",
      "http://192.168.199.75:8080/static/prediction.jpg\n"
     ]
    }
   ],
   "source": [
    "# 從flask端取得影像的位址\n",
    "url = 'http://192.168.199.75:8080' # 指定flask web的位址\n",
    "index_url = url+'/index' # 指定web中影像的位址 (影像被放在inex目錄下)\n",
    "r = requests.get(index_url) # 從影像的位址取得該頁面的內容\n",
    "if r.status_code == requests.codes.ok: # 確定連接是否順利 (not 502 or 400)\n",
    "    print(\"OK\")\n",
    "res = r.text # 取得文字內容，裡面包含影像的檔名以及位置，我們需要用這兩個資訊來取得圖片\n",
    "head = res.find('<img src=') # 取得影像物件的html敘述的開頭index\n",
    "tail = head+res[head:].find('>') # 取得影像物件的html敘述的結尾index\n",
    "img_url = url+res[head:tail].split('\\\"')[1] # 透過頭尾index來取得影像的具體位址\n",
    "print(img_url)"
   ]
  },
  {
   "cell_type": "code",
   "execution_count": 6,
   "metadata": {},
   "outputs": [],
   "source": [
    "# 下載圖片並儲存\n",
    "img_name = 'prediction.jpg'\n",
    "\n",
    "html = requests.get(img_url)\n",
    "with open(img_name, 'wb') as file:\n",
    "    file.write(html.content)"
   ]
  },
  {
   "cell_type": "code",
   "execution_count": 7,
   "metadata": {},
   "outputs": [],
   "source": [
    "with open(img_name, \"rb\") as f: #使用python內建的檔案讀寫工具open\n",
    "    bin_pic = base64.b64encode(f.read()).decode('utf-8') # 將讀取到的圖片(f)編碼成二進制檔\n",
    "    mydata = {'yolo_result': yolo_result, 'image_data': bin_pic}\n",
    "    result = coll.insert_one(mydata)"
   ]
  },
  {
   "cell_type": "code",
   "execution_count": null,
   "metadata": {},
   "outputs": [],
   "source": []
  }
 ],
 "metadata": {
  "kernelspec": {
   "display_name": "Python 3",
   "language": "python",
   "name": "python3"
  },
  "language_info": {
   "codemirror_mode": {
    "name": "ipython",
    "version": 3
   },
   "file_extension": ".py",
   "mimetype": "text/x-python",
   "name": "python",
   "nbconvert_exporter": "python",
   "pygments_lexer": "ipython3",
   "version": "3.7.4"
  }
 },
 "nbformat": 4,
 "nbformat_minor": 2
}
