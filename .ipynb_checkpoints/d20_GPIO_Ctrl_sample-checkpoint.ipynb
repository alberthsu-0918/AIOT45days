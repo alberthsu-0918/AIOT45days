{
 "cells": [
  {
   "cell_type": "code",
   "execution_count": null,
   "metadata": {},
   "outputs": [],
   "source": [
    "# 以下為放在raspberryPi的code\n",
    "from flask import Flask\n",
    "app = Flask(_name_)#建立一個名為app的Flask物件\n",
    "\n",
    "@app.route(\"/\")#當有人訪問網頁伺服器的根目錄是,執行下面的程式碼\n",
    "\n",
    "def hello(): return \"Hello World!\"#向客户端傳送\"Hello WOrld!\"字串\n",
    "\n",
    "if __name__ == \"__main__\":#判斷是否這個指令碼是從命令列直接執行\n",
    "\tapp.run(host='0.0.0.0', port=8080, debug=True, threaded=True) #在瀏覽器輸入樹莓派ip即可. Command: ip address show. 用真正有聯網的IP.  "
   ]
  },
  {
   "cell_type": "code",
   "execution_count": 2,
   "metadata": {},
   "outputs": [
    {
     "name": "stdout",
     "output_type": "stream",
     "text": [
      " * Serving Flask app \"__main__\" (lazy loading)\n",
      " * Environment: production\n",
      "   WARNING: This is a development server. Do not use it in a production deployment.\n",
      "   Use a production WSGI server instead.\n",
      " * Debug mode: off\n"
     ]
    },
    {
     "name": "stderr",
     "output_type": "stream",
     "text": [
      " * Running on http://127.0.0.1:5000/ (Press CTRL+C to quit)\n",
      "127.0.0.1 - - [25/Jan/2021 16:04:36] \"\u001b[37mGET / HTTP/1.1\u001b[0m\" 200 -\n",
      "127.0.0.1 - - [25/Jan/2021 16:04:36] \"\u001b[33mGET /StarFishing/ardunio/contributors/master/风扇.c HTTP/1.1\u001b[0m\" 404 -\n",
      "127.0.0.1 - - [25/Jan/2021 16:04:36] \"\u001b[33mGET /StarFishing/ardunio/security/overall-count HTTP/1.1\u001b[0m\" 404 -\n",
      "127.0.0.1 - - [25/Jan/2021 16:04:36] \"\u001b[33mGET /opensearch.xml HTTP/1.1\u001b[0m\" 404 -\n",
      "127.0.0.1 - - [25/Jan/2021 16:04:36] \"\u001b[33mGET /manifest.json HTTP/1.1\u001b[0m\" 404 -\n",
      "127.0.0.1 - - [25/Jan/2021 16:05:03] \"\u001b[37mGET / HTTP/1.1\u001b[0m\" 200 -\n",
      "127.0.0.1 - - [25/Jan/2021 16:05:30] \"\u001b[37mGET / HTTP/1.1\u001b[0m\" 200 -\n",
      "127.0.0.1 - - [25/Jan/2021 16:05:31] \"\u001b[33mGET /StarFishing/ardunio/contributors/master/风扇.c HTTP/1.1\u001b[0m\" 404 -\n",
      "127.0.0.1 - - [25/Jan/2021 16:05:31] \"\u001b[33mGET /StarFishing/ardunio/security/overall-count HTTP/1.1\u001b[0m\" 404 -\n",
      "127.0.0.1 - - [25/Jan/2021 16:05:31] \"\u001b[33mGET /opensearch.xml HTTP/1.1\u001b[0m\" 404 -\n",
      "127.0.0.1 - - [25/Jan/2021 16:05:31] \"\u001b[33mGET /manifest.json HTTP/1.1\u001b[0m\" 404 -\n",
      "127.0.0.1 - - [25/Jan/2021 16:05:54] \"\u001b[37mGET / HTTP/1.1\u001b[0m\" 200 -\n",
      "127.0.0.1 - - [25/Jan/2021 16:05:54] \"\u001b[33mGET /StarFishing/ardunio/contributors/master/风扇.c HTTP/1.1\u001b[0m\" 404 -\n",
      "127.0.0.1 - - [25/Jan/2021 16:05:54] \"\u001b[33mGET /StarFishing/ardunio/security/overall-count HTTP/1.1\u001b[0m\" 404 -\n",
      "127.0.0.1 - - [25/Jan/2021 16:05:54] \"\u001b[33mGET /opensearch.xml HTTP/1.1\u001b[0m\" 404 -\n",
      "127.0.0.1 - - [25/Jan/2021 16:05:54] \"\u001b[33mGET /manifest.json HTTP/1.1\u001b[0m\" 404 -\n"
     ]
    }
   ],
   "source": [
    "#呼叫index.html來執行\n",
    "from flask import Flask\n",
    "from flask import render_template\n",
    "app = Flask(__name__)#建立一個名為app的Flask物件\n",
    "\n",
    "@app.route('/', methods = ['GET'])#當有人訪問網頁伺服器的根目錄是,執行下面的程式碼\n",
    "def CtrlByIndex(): return render_template('index.html') \n",
    "#可以給首頁添加一個 HTML 模板文件啦。用下面的代碼，進入對應的文件夾，並且新建一個 index.html，再用 rmate 命令來編輯：\n",
    "#cd templates\n",
    "#touch index.html\n",
    "#rmate index.html\n",
    "\n",
    "if __name__ == \"__main__\":\n",
    "    app.run()"
   ]
  },
  {
   "cell_type": "code",
   "execution_count": null,
   "metadata": {},
   "outputs": [],
   "source": [
    "# 在raspberrypi放GPIO控制程式。在遠端用網頁(postman)呼叫執行\n",
    "# 本次作業下載的範例程式: 1.Fan.c  2.GPIO_Ctrl.py(要放在raspberryPi的code) 3.GPIO_Ctrl.ipynb(跟2的程式一樣，應該是方便讀者看才放的)\n",
    "import RPi.GPIO\n",
    "import time\n",
    "from flask import Flask\n",
    "\n",
    "\n",
    "RPi.GPIO.setmode(RPi.GPIO.BCM)\n",
    "RPi.GPIO.setup(18, RPi.GPIO.OUT)\n",
    "\n",
    "app = Flask(__name__)\n",
    "@app.route('/')\n",
    "def hello_world(): return 'Hello World!'\n",
    "\n",
    "@app.route('/start')\n",
    "def start():\n",
    "        RPi.GPIO.setmode(RPi.GPIO.BCM)\n",
    "        RPi.GPIO.setup(18,RPi.GPIO.OUT)\n",
    "        while(True):\n",
    "                RPi.GPIO.output(18,False)\n",
    "                time.sleep(5)\n",
    "                RPi.GPIO.output(18,True)\n",
    "                time.sleep(5)\n",
    "\n",
    "RPi.GPIO.cleanup()\n",
    "\n",
    "if __name__ == \"__main__\":#判斷是否這個指令碼是從命令列直接執行\n",
    "        app.run(host='0.0.0.0', port=8080, debug=True, threaded=True) #在遠端區網瀏覽器，輸入網址:8080/ (ex: 169.254.27.173:8080/start)\n",
    "\n",
    "\n"
   ]
  }
 ],
 "metadata": {
  "kernelspec": {
   "display_name": "Python 3",
   "language": "python",
   "name": "python3"
  },
  "language_info": {
   "codemirror_mode": {
    "name": "ipython",
    "version": 3
   },
   "file_extension": ".py",
   "mimetype": "text/x-python",
   "name": "python",
   "nbconvert_exporter": "python",
   "pygments_lexer": "ipython3",
   "version": "3.7.4"
  }
 },
 "nbformat": 4,
 "nbformat_minor": 2
}
