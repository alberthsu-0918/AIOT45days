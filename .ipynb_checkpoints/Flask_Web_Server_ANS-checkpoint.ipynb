{
 "cells": [
  {
   "cell_type": "markdown",
   "metadata": {},
   "source": [
    "# 作業：使用 Flask 撰寫一個 Web Server"
   ]
  },
  {
   "cell_type": "markdown",
   "metadata": {},
   "source": [
    "# [作業目標]\n",
    "* 分別實作接受 Get 和 Post 方法的 api。\n",
    "* 使用 Post 完成檔案上傳功能，並提供簡易的上傳畫面。"
   ]
  },
  {
   "cell_type": "markdown",
   "metadata": {},
   "source": [
    "## [作業重點]\n",
    "\n",
    "* 能充分理解 Get / Post 差異。\n",
    "* 使用 Postman 發送 Request，確定功能是否正確。"
   ]
  },
  {
   "cell_type": "markdown",
   "metadata": {},
   "source": [
    "# 作業1\n",
    "* 實作只接受 Get 發送的 Request，帶入參數 name，將其值回傳。"
   ]
  },
  {
   "cell_type": "code",
   "execution_count": null,
   "metadata": {},
   "outputs": [],
   "source": [
    "from flask import Flask, request\n",
    "\n",
    "app = Flask(__name__)\n",
    "\n",
    "@app.route(\"/\", methods=['GET'])\n",
    "def hello():\n",
    "    name = request.args.get(\"name\")\n",
    "    return \"Hello \" + name\n",
    "\n",
    "if __name__ == \"__main__\":\n",
    "    app.run()"
   ]
  },
  {
   "cell_type": "markdown",
   "metadata": {},
   "source": [
    "# 作業2\n",
    "* 實作只接受 Post 發送的 Request，帶入參數 name，將其值回傳。"
   ]
  },
  {
   "cell_type": "code",
   "execution_count": 1,
   "metadata": {},
   "outputs": [
    {
     "name": "stdout",
     "output_type": "stream",
     "text": [
      " * Serving Flask app \"__main__\" (lazy loading)\n",
      " * Environment: production\n",
      "   WARNING: This is a development server. Do not use it in a production deployment.\n",
      "   Use a production WSGI server instead.\n",
      " * Debug mode: off\n"
     ]
    },
    {
     "name": "stderr",
     "output_type": "stream",
     "text": [
      " * Running on http://127.0.0.1:5000/ (Press CTRL+C to quit)\n",
      "127.0.0.1 - - [18/Jan/2021 18:22:40] \"\u001b[1m\u001b[31mGET / HTTP/1.1\u001b[0m\" 405 -\n"
     ]
    }
   ],
   "source": [
    "from flask import Flask, request\n",
    "\n",
    "app = Flask(__name__)\n",
    "\n",
    "@app.route(\"/\", methods=['POST'])\n",
    "def hello():\n",
    "    name = request.form.get(\"name\")\n",
    "    return \"Hello \" + name\n",
    "\n",
    "if __name__ == \"__main__\":\n",
    "    app.run()"
   ]
  },
  {
   "cell_type": "markdown",
   "metadata": {},
   "source": [
    "# 作業3\n",
    "* 使用 Post 實作檔案上傳功能，並有一個簡單的畫面可以操作檔案上傳的動作。"
   ]
  },
  {
   "cell_type": "code",
   "execution_count": null,
   "metadata": {},
   "outputs": [],
   "source": [
    "import os\n",
    "from flask import Flask, request, redirect, url_for, send_from_directory\n",
    "\n",
    "\n",
    "app = Flask(__name__)\n",
    "app.config['UPLOAD_FOLDER'] = './file/' # 檔案上傳後要放置的位置，請自行修改\n",
    "\n",
    "\n",
    "\n",
    "# 若使用 Post 方法呼叫此 api，才會真的執行檔案上傳\n",
    "# 否則若用 Get，則會回傳下面那串 html 畫面\n",
    "@app.route('/', methods=['GET', 'POST'])\n",
    "def upload_file():\n",
    "    if request.method == 'POST': \n",
    "        file = request.files['file']\n",
    "        if file:\n",
    "            filename = file.filename\n",
    "            file.save(os.path.join(app.config['UPLOAD_FOLDER'], \n",
    "                                   filename))\n",
    "            return redirect(url_for('uploaded_file',\n",
    "                                    filename=filename))\n",
    "    return '''\n",
    "    <!doctype html>\n",
    "    <title>Upload new File</title>\n",
    "    <h1>Upload new File</h1>\n",
    "    <form action=\"\" method=post enctype=multipart/form-data>\n",
    "      <p><input type=file name=file>\n",
    "         <input type=submit value=Upload>\n",
    "    </form>\n",
    "    '''\n",
    "\n",
    "@app.route('/<filename>')\n",
    "def uploaded_file(filename):\n",
    "    return send_from_directory(app.config['UPLOAD_FOLDER'], # 上傳成功之後，馬上讀出來並回傳到網頁上\n",
    "                               filename)\n",
    "\n",
    "\n",
    "if __name__ == \"__main__\":\n",
    "    app.run()"
   ]
  }
 ],
 "metadata": {
  "kernelspec": {
   "display_name": "Python 3",
   "language": "python",
   "name": "python3"
  },
  "language_info": {
   "codemirror_mode": {
    "name": "ipython",
    "version": 3
   },
   "file_extension": ".py",
   "mimetype": "text/x-python",
   "name": "python",
   "nbconvert_exporter": "python",
   "pygments_lexer": "ipython3",
   "version": "3.7.4"
  }
 },
 "nbformat": 4,
 "nbformat_minor": 4
}
