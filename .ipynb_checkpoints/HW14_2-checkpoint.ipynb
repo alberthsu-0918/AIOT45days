{
 "cells": [
  {
   "cell_type": "code",
   "execution_count": null,
   "metadata": {},
   "outputs": [],
   "source": [
    "from gpiozero import LED\n",
    "from time import sleep\n",
    "from gpiozero import PWMLED\n",
    "\n",
    "Ctrl = LED(12)\n",
    "\n",
    "Ctrl.on()\n",
    "sleep(1)\n",
    "Ctrl.off()\n",
    "sleep(1)"
   ]
  },
  {
   "cell_type": "code",
   "execution_count": null,
   "metadata": {},
   "outputs": [],
   "source": [
    "led = PWMLED(12)\n",
    "led.value = 0\n",
    "sleep(1)\n",
    "led.value = 0.1\n",
    "sleep(1)\n",
    "led.value = 0.3\n",
    "sleep(1)\n",
    "led.value = 0.5\n",
    "sleep(1)\n",
    "led.value = 0.7\n",
    "sleep(1)"
   ]
  }
 ],
 "metadata": {
  "kernelspec": {
   "display_name": "Python 3",
   "language": "python",
   "name": "python3"
  },
  "language_info": {
   "codemirror_mode": {
    "name": "ipython",
    "version": 3
   },
   "file_extension": ".py",
   "mimetype": "text/x-python",
   "name": "python",
   "nbconvert_exporter": "python",
   "pygments_lexer": "ipython3",
   "version": "3.7.4"
  }
 },
 "nbformat": 4,
 "nbformat_minor": 2
}
