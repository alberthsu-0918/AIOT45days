{
 "cells": [
  {
   "cell_type": "code",
   "execution_count": 1,
   "metadata": {},
   "outputs": [],
   "source": [
    "# 存取已經建立好的mongoDB\n",
    "from pymongo import MongoClient  \n",
    "import base64"
   ]
  },
  {
   "cell_type": "code",
   "execution_count": 2,
   "metadata": {},
   "outputs": [],
   "source": [
    "# 連接到local端的MongoDB，MongoDB database使用Robot3T建立\n",
    "client = MongoClient(host = '127.0.0.1', port = 27017)\n",
    "db = client['test_db'] # 建立一個data base名為test_db\n",
    "coll = db['Collections'] # 在test_db中 建立一個collections名為coll"
   ]
  },
  {
   "cell_type": "code",
   "execution_count": 3,
   "metadata": {},
   "outputs": [
    {
     "data": {
      "text/plain": [
       "['admin', 'config', 'local', 'member', 'mydb', 'test']"
      ]
     },
     "execution_count": 3,
     "metadata": {},
     "output_type": "execute_result"
    }
   ],
   "source": [
    "client.list_database_names() # Get a list of the names of all databases on the connected server"
   ]
  },
  {
   "cell_type": "code",
   "execution_count": 4,
   "metadata": {},
   "outputs": [
    {
     "name": "stdout",
     "output_type": "stream",
     "text": [
      "6048841816ab33d65725722e\n"
     ]
    }
   ],
   "source": [
    "# 讀取圖片，轉成二進制\n",
    "img_name = 'httpcsvkmeuaeccjpg.jpg'\n",
    "with open(img_name, \"rb\") as f: #使用python內建的檔案讀寫工具open\n",
    "    strpic = base64.b64encode(f.read()).decode('utf-8') # 將讀取到的圖片(f)編碼成二進制檔\n",
    "    mydata = {'jpg_base64': strpic} # 將jpg_base64這個key和二進制化的圖片編成一組字典my_data\n",
    "    result = coll.insert_one(mydata) # 在coll裡面新增my_data\n",
    "    print(result.inserted_id) # 打印出my_data在儲存時，DB分配出來的id"
   ]
  },
  {
   "cell_type": "code",
   "execution_count": 5,
   "metadata": {},
   "outputs": [],
   "source": [
    "# 將圖片的檔名、以及在DB中對應的id儲存下來\n",
    "with open(\"imageList.txt\", \"a+\") as file: # 編輯imageList.txt文件。不存在則創建之\n",
    "    old = file.read() # read everything in the file # 讀取imageList.txt\n",
    "    file.seek(0) # rewind\n",
    "    content = '%\\n'+img_name+'\\n'+str(result.inserted_id) # 將圖片名和id整合到變數content中\n",
    "    # 接著將content儲存到imageList.txt中\n",
    "    file.write(content+\"\\n\" + old) # write the new line before "
   ]
  },
  {
   "cell_type": "code",
   "execution_count": 6,
   "metadata": {},
   "outputs": [
    {
     "name": "stdout",
     "output_type": "stream",
     "text": [
      "6048841816ab33d65725722e\n"
     ]
    }
   ],
   "source": [
    "img_name = 'httpcsvkmeuaeccjpg.jpg' # 這裡要替換成你要讀取的圖片的檔名\n",
    "_id = [] # 創建一個list\n",
    "with open(\"imageList.txt\", \"r\") as file: # 讀取imageList.txt文件,with會在結束後關閉文件\n",
    "    lines = file.readlines() # 讀取檔案內容的每一行文字為陣列  \n",
    "    for i in range(len(lines)):\n",
    "        if img_name in lines[i]: # 注意: 讀取到的每一列其實後面會有看不到的’\\n’(換行符號)\n",
    "            a = lines[i+1].split('\\n') # 所以在這裡把\\n跟想要的內容區隔開\n",
    "            _id.append(a[0]) # 單獨把想要的內容存到list(_id)中\n",
    "print(_id[0]) # 你可以用這個指令來觀察你得到的內容(圖像在DB中的id)"
   ]
  },
  {
   "cell_type": "code",
   "execution_count": 7,
   "metadata": {},
   "outputs": [],
   "source": [
    "# 尋找指定ID的圖片\n",
    "img_base64 = []\n",
    "for i in coll.find():\n",
    "#     print(str(i['_id']))\n",
    "#     print(type(i['_id']))\n",
    "    if str(i['_id']) == _id[0]:\n",
    "#         print()\n",
    "        img_base64.append(i['jpg_base64'])\n"
   ]
  },
  {
   "cell_type": "code",
   "execution_count": 8,
   "metadata": {},
   "outputs": [
    {
     "data": {
      "text/plain": [
       "['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']"
      ]
     },
     "execution_count": 8,
     "metadata": {},
     "output_type": "execute_result"
    }
   ],
   "source": [
    "img_base64"
   ]
  },
  {
   "cell_type": "code",
   "execution_count": 9,
   "metadata": {},
   "outputs": [],
   "source": [
    "from PIL import Image\n",
    "from io import BytesIO\n",
    "\n",
    "im = Image.open(BytesIO(base64.b64decode(img_base64[0])))\n",
    "im.save('mongoDB_image0.jpg', 'JPEG')\n"
   ]
  },
  {
   "cell_type": "code",
   "execution_count": 18,
   "metadata": {},
   "outputs": [
    {
     "data": {
      "text/plain": [
       "[]"
      ]
     },
     "execution_count": 18,
     "metadata": {},
     "output_type": "execute_result"
    }
   ],
   "source": [
    "img_base64"
   ]
  },
  {
   "cell_type": "code",
   "execution_count": null,
   "metadata": {},
   "outputs": [],
   "source": []
  }
 ],
 "metadata": {
  "kernelspec": {
   "display_name": "Python 3",
   "language": "python",
   "name": "python3"
  },
  "language_info": {
   "codemirror_mode": {
    "name": "ipython",
    "version": 3
   },
   "file_extension": ".py",
   "mimetype": "text/x-python",
   "name": "python",
   "nbconvert_exporter": "python",
   "pygments_lexer": "ipython3",
   "version": "3.7.4"
  }
 },
 "nbformat": 4,
 "nbformat_minor": 2
}
