{
 "cells": [
  {
   "cell_type": "markdown",
   "metadata": {},
   "source": [
    "# 作業：使用 Flask 操作 Mongo"
   ]
  },
  {
   "cell_type": "markdown",
   "metadata": {},
   "source": [
    "# [作業目標]\n",
    "* 能夠使用 python 操作 mongodb 的增刪改查。\n",
    "* API 設計上能符合 Restful 風格。"
   ]
  },
  {
   "cell_type": "markdown",
   "metadata": {},
   "source": [
    "# [作業重點]\n",
    "* 能使用正確的 Http Method 去接收 Request。\n",
    "* 實作之前，Mongo Server 要記得開啟。\n",
    "* 若 DB 和 Collection 原本不存在，請先用 Robo3T 手動建立。"
   ]
  },
  {
   "cell_type": "markdown",
   "metadata": {},
   "source": [
    "# [本作業你可能需要使用的 packages]\n",
    "* from pymongo import MongoClient\n",
    "* from flask import Flask, request\n",
    "* from bson.objectid import ObjectId"
   ]
  },
  {
   "cell_type": "markdown",
   "metadata": {},
   "source": [
    "# 作業 1\n",
    "* 使用 Post，傳入參數 name, age, email 參數，並把資料存入 Member Collection。\n",
    "\n",
    "# 作業 2\n",
    "* 使用 Get，取得所有的資料。\n",
    "* 使用 Get，帶入要取得的資料 id 參數，並成功從 Mongo 中取得某一筆特定資料。\n",
    "\n",
    "# 作業 3\n",
    "* 使用 PUT，帶入要更新的資料id，並傳入 name, age, email 參數，並修改 Mongo 中某一筆資料的值。\n",
    "\n",
    "# 作業 4\n",
    "* 使用 DELETE，帶入要刪除的資料 id，並刪除 Mongo 中某一筆資料。"
   ]
  }
 ],
 "metadata": {
  "kernelspec": {
   "display_name": "Python 3",
   "language": "python",
   "name": "python3"
  },
  "language_info": {
   "codemirror_mode": {
    "name": "ipython",
    "version": 3
   },
   "file_extension": ".py",
   "mimetype": "text/x-python",
   "name": "python",
   "nbconvert_exporter": "python",
   "pygments_lexer": "ipython3",
   "version": "3.7.7"
  }
 },
 "nbformat": 4,
 "nbformat_minor": 4
}
