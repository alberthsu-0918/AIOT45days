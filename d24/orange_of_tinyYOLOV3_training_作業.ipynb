{
 "cells": [
  {
   "cell_type": "markdown",
   "metadata": {
    "id": "dX257JRyhewK"
   },
   "source": [
    "# 作業 : orange_of_tinyYOLOV3_training"
   ]
  },
  {
   "cell_type": "markdown",
   "metadata": {
    "id": "N1ldaRa0hiIh"
   },
   "source": [
    "## [作業目標]\n",
    "如何從標記開始，訓練自己的yolo模型\n",
    "\n",
    "## [作業重點]\n",
    "- 標記要選對格式\n",
    "- 要調整cfg檔\n",
    "- 推論的時候要傳入正確的參數"
   ]
  },
  {
   "cell_type": "markdown",
   "metadata": {
    "id": "5NzYlHOThyRh"
   },
   "source": [
    "### 作業1 : 請用手邊的水果(e.g. 橘子)做一個物件偵測模型。在課程簡報中有提供測試用的標註檔。"
   ]
  }
 ],
 "metadata": {
  "accelerator": "GPU",
  "colab": {
   "collapsed_sections": [],
   "name": "orange_of_tinyYOLOV3_training_作業.ipynb",
   "provenance": []
  },
  "kernelspec": {
   "display_name": "Python 3",
   "language": "python",
   "name": "python3"
  },
  "language_info": {
   "codemirror_mode": {
    "name": "ipython",
    "version": 3
   },
   "file_extension": ".py",
   "mimetype": "text/x-python",
   "name": "python",
   "nbconvert_exporter": "python",
   "pygments_lexer": "ipython3",
   "version": "3.7.4"
  }
 },
 "nbformat": 4,
 "nbformat_minor": 1
}
