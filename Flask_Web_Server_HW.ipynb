{
 "cells": [
  {
   "cell_type": "markdown",
   "metadata": {},
   "source": [
    "# 作業：使用 Flask 撰寫一個 Web Server"
   ]
  },
  {
   "cell_type": "markdown",
   "metadata": {},
   "source": [
    "# [作業目標]\n",
    "* 分別實作接受 Get 和 Post 方法的 api。\n",
    "* 使用 Post 完成檔案上傳功能，並提供簡易的上傳畫面。"
   ]
  },
  {
   "cell_type": "markdown",
   "metadata": {},
   "source": [
    "## [作業重點]\n",
    "\n",
    "* 能充分理解 Get / Post 差異。\n",
    "* 使用 Postman 發送 Request，確定功能是否正確。"
   ]
  },
  {
   "cell_type": "markdown",
   "metadata": {},
   "source": [
    "# 作業1\n",
    "* 實作只接受 Get 發送的 Request，帶入參數 name，將其值回傳。\n",
    "\n",
    "\n",
    "# 作業2\n",
    "* 實作只接受 Post 發送的 Request，帶入參數 name，將其值回傳。\n",
    "\n",
    "\n",
    "# 作業3\n",
    "* 使用 Post 實作檔案上傳功能，並有一個簡單的畫面可以操作檔案上傳的動作。"
   ]
  },
  {
   "cell_type": "code",
   "execution_count": 5,
   "metadata": {},
   "outputs": [],
   "source": [
    "#1. 實作只接受 Get 發送的 Request，帶入參數 name，將其值回傳。\n",
    "from flask import Flask, request\n",
    "\n",
    "app = Flask(__name__)"
   ]
  },
  {
   "cell_type": "code",
   "execution_count": 5,
   "metadata": {},
   "outputs": [],
   "source": [
    "@app.route('/', methods=['GET'])\n",
    "def index():\n",
    "    name = request.args.get('name') # 取得 name 參數\n",
    "    return \"Hello \" + name"
   ]
  },
  {
   "cell_type": "code",
   "execution_count": 6,
   "metadata": {},
   "outputs": [
    {
     "name": "stdout",
     "output_type": "stream",
     "text": [
      " * Serving Flask app \"__main__\" (lazy loading)\n",
      " * Environment: production\n",
      "   WARNING: This is a development server. Do not use it in a production deployment.\n",
      "   Use a production WSGI server instead.\n",
      " * Debug mode: off\n"
     ]
    },
    {
     "name": "stderr",
     "output_type": "stream",
     "text": [
      " * Running on http://127.0.0.1:5000/ (Press CTRL+C to quit)\n"
     ]
    }
   ],
   "source": [
    "if __name__ == '__main__':\n",
    "    app.run()"
   ]
  },
  {
   "cell_type": "code",
   "execution_count": 10,
   "metadata": {},
   "outputs": [
    {
     "name": "stdout",
     "output_type": "stream",
     "text": [
      " * Serving Flask app \"__main__\" (lazy loading)\n",
      " * Environment: production\n",
      "   WARNING: This is a development server. Do not use it in a production deployment.\n",
      "   Use a production WSGI server instead.\n",
      " * Debug mode: off\n"
     ]
    },
    {
     "name": "stderr",
     "output_type": "stream",
     "text": [
      " * Running on http://127.0.0.1:5000/ (Press CTRL+C to quit)\n",
      "127.0.0.1 - - [18/Jan/2021 17:59:43] \"\u001b[1m\u001b[31mGET / HTTP/1.1\u001b[0m\" 405 -\n"
     ]
    }
   ],
   "source": [
    "# 2實作只接受 Post 發送的 Request，帶入參數 name，將其值回傳。\n",
    "from flask import Flask, request\n",
    "app = Flask(__name__)\n",
    "\n",
    "# 設定網址路由，及接受的 method(預設是 GET)\n",
    "@app.route('/', methods=['POST'])\n",
    "def index():\n",
    "    name = request.form.get('name') # 取得 name 參數\n",
    "    passwd = request.form.get('passwd') # 取得 passwd 參數\n",
    "    return \"Your name: \" + name + \", Your passwd: \" + passwd\n",
    "    \n",
    "\n",
    "if __name__ == '__main__':\n",
    "    app.run()"
   ]
  },
  {
   "cell_type": "code",
   "execution_count": 12,
   "metadata": {},
   "outputs": [
    {
     "ename": "SyntaxError",
     "evalue": "can't assign to function call (<ipython-input-12-b5e637522b48>, line 5)",
     "output_type": "error",
     "traceback": [
      "\u001b[1;36m  File \u001b[1;32m\"<ipython-input-12-b5e637522b48>\"\u001b[1;36m, line \u001b[1;32m5\u001b[0m\n\u001b[1;33m    app.config('APPLICATION_ROOT') = \".\" # . 代表在程式執行的當前目錄，加入這個設定讓程式知道我的 templates 在這邊\u001b[0m\n\u001b[1;37m                                                                                     ^\u001b[0m\n\u001b[1;31mSyntaxError\u001b[0m\u001b[1;31m:\u001b[0m can't assign to function call\n"
     ]
    }
   ],
   "source": [
    "# 3. 使用 Post 實作檔案上傳功能，並有一個簡單的畫面可以操作檔案上傳的動作。\n",
    "from flask import Flask, request, render_template\n",
    "\n",
    "app = Flask(__name__)\n",
    "app.config('APPLICATION_ROOT') = \".\" # . 代表在程式執行的當前目錄，加入這個設定讓程式知道我的 templates 在這邊\n",
    "\n",
    "# 設定網址路由，及接受的 method(預設是 GET)\n",
    "@app.route('/', methods=['GET'])\n",
    "def index():\n",
    "    render_template('index.html') # 回傳 index.html 這個畫面\n",
    "    \n",
    "\n",
    "if __name__ == '__main__':\n",
    "    app.run()"
   ]
  },
  {
   "cell_type": "code",
   "execution_count": null,
   "metadata": {},
   "outputs": [],
   "source": []
  }
 ],
 "metadata": {
  "kernelspec": {
   "display_name": "Python 3",
   "language": "python",
   "name": "python3"
  },
  "language_info": {
   "codemirror_mode": {
    "name": "ipython",
    "version": 3
   },
   "file_extension": ".py",
   "mimetype": "text/x-python",
   "name": "python",
   "nbconvert_exporter": "python",
   "pygments_lexer": "ipython3",
   "version": "3.7.4"
  }
 },
 "nbformat": 4,
 "nbformat_minor": 4
}
